{
  "nbformat": 4,
  "nbformat_minor": 0,
  "metadata": {
    "colab": {
      "provenance": [],
      "gpuType": "T4",
      "authorship_tag": "ABX9TyNJgLOROqEGV4otwO5o5cBS",
      "include_colab_link": true
    },
    "kernelspec": {
      "name": "python3",
      "display_name": "Python 3"
    },
    "language_info": {
      "name": "python"
    },
    "accelerator": "GPU",
    "widgets": {
      "application/vnd.jupyter.widget-state+json": {
        "82a1a1f39c0b47a09766f11042d2e04d": {
          "model_module": "@jupyter-widgets/controls",
          "model_name": "HBoxModel",
          "model_module_version": "1.5.0",
          "state": {
            "_dom_classes": [],
            "_model_module": "@jupyter-widgets/controls",
            "_model_module_version": "1.5.0",
            "_model_name": "HBoxModel",
            "_view_count": null,
            "_view_module": "@jupyter-widgets/controls",
            "_view_module_version": "1.5.0",
            "_view_name": "HBoxView",
            "box_style": "",
            "children": [
              "IPY_MODEL_3a222ac1e7ae443e92835fa27e1b77b8",
              "IPY_MODEL_44134a08b86f483bab3b2babc19b8f29",
              "IPY_MODEL_4a9114abb4314572bcd68799d87d4487"
            ],
            "layout": "IPY_MODEL_b23376ffe0a342f19d3d1a97d81e3f47"
          }
        },
        "3a222ac1e7ae443e92835fa27e1b77b8": {
          "model_module": "@jupyter-widgets/controls",
          "model_name": "HTMLModel",
          "model_module_version": "1.5.0",
          "state": {
            "_dom_classes": [],
            "_model_module": "@jupyter-widgets/controls",
            "_model_module_version": "1.5.0",
            "_model_name": "HTMLModel",
            "_view_count": null,
            "_view_module": "@jupyter-widgets/controls",
            "_view_module_version": "1.5.0",
            "_view_name": "HTMLView",
            "description": "",
            "description_tooltip": null,
            "layout": "IPY_MODEL_a66f0709b98b435f94069f820c8a424a",
            "placeholder": "​",
            "style": "IPY_MODEL_59093c2dbcc34a79befab66463f89292",
            "value": "100%"
          }
        },
        "44134a08b86f483bab3b2babc19b8f29": {
          "model_module": "@jupyter-widgets/controls",
          "model_name": "FloatProgressModel",
          "model_module_version": "1.5.0",
          "state": {
            "_dom_classes": [],
            "_model_module": "@jupyter-widgets/controls",
            "_model_module_version": "1.5.0",
            "_model_name": "FloatProgressModel",
            "_view_count": null,
            "_view_module": "@jupyter-widgets/controls",
            "_view_module_version": "1.5.0",
            "_view_name": "ProgressView",
            "bar_style": "success",
            "description": "",
            "description_tooltip": null,
            "layout": "IPY_MODEL_14725beec34b462b9f26ad9c85ceba37",
            "max": 300,
            "min": 0,
            "orientation": "horizontal",
            "style": "IPY_MODEL_aee657f8c9c74170912e10ea449127c5",
            "value": 300
          }
        },
        "4a9114abb4314572bcd68799d87d4487": {
          "model_module": "@jupyter-widgets/controls",
          "model_name": "HTMLModel",
          "model_module_version": "1.5.0",
          "state": {
            "_dom_classes": [],
            "_model_module": "@jupyter-widgets/controls",
            "_model_module_version": "1.5.0",
            "_model_name": "HTMLModel",
            "_view_count": null,
            "_view_module": "@jupyter-widgets/controls",
            "_view_module_version": "1.5.0",
            "_view_name": "HTMLView",
            "description": "",
            "description_tooltip": null,
            "layout": "IPY_MODEL_2668503e01db459dabc55083c1b3a167",
            "placeholder": "​",
            "style": "IPY_MODEL_7dbda79e5fd54653b5e473d65ec59e70",
            "value": " 300/300 [00:00&lt;00:00, 791.80it/s]"
          }
        },
        "b23376ffe0a342f19d3d1a97d81e3f47": {
          "model_module": "@jupyter-widgets/base",
          "model_name": "LayoutModel",
          "model_module_version": "1.2.0",
          "state": {
            "_model_module": "@jupyter-widgets/base",
            "_model_module_version": "1.2.0",
            "_model_name": "LayoutModel",
            "_view_count": null,
            "_view_module": "@jupyter-widgets/base",
            "_view_module_version": "1.2.0",
            "_view_name": "LayoutView",
            "align_content": null,
            "align_items": null,
            "align_self": null,
            "border": null,
            "bottom": null,
            "display": null,
            "flex": null,
            "flex_flow": null,
            "grid_area": null,
            "grid_auto_columns": null,
            "grid_auto_flow": null,
            "grid_auto_rows": null,
            "grid_column": null,
            "grid_gap": null,
            "grid_row": null,
            "grid_template_areas": null,
            "grid_template_columns": null,
            "grid_template_rows": null,
            "height": null,
            "justify_content": null,
            "justify_items": null,
            "left": null,
            "margin": null,
            "max_height": null,
            "max_width": null,
            "min_height": null,
            "min_width": null,
            "object_fit": null,
            "object_position": null,
            "order": null,
            "overflow": null,
            "overflow_x": null,
            "overflow_y": null,
            "padding": null,
            "right": null,
            "top": null,
            "visibility": null,
            "width": null
          }
        },
        "a66f0709b98b435f94069f820c8a424a": {
          "model_module": "@jupyter-widgets/base",
          "model_name": "LayoutModel",
          "model_module_version": "1.2.0",
          "state": {
            "_model_module": "@jupyter-widgets/base",
            "_model_module_version": "1.2.0",
            "_model_name": "LayoutModel",
            "_view_count": null,
            "_view_module": "@jupyter-widgets/base",
            "_view_module_version": "1.2.0",
            "_view_name": "LayoutView",
            "align_content": null,
            "align_items": null,
            "align_self": null,
            "border": null,
            "bottom": null,
            "display": null,
            "flex": null,
            "flex_flow": null,
            "grid_area": null,
            "grid_auto_columns": null,
            "grid_auto_flow": null,
            "grid_auto_rows": null,
            "grid_column": null,
            "grid_gap": null,
            "grid_row": null,
            "grid_template_areas": null,
            "grid_template_columns": null,
            "grid_template_rows": null,
            "height": null,
            "justify_content": null,
            "justify_items": null,
            "left": null,
            "margin": null,
            "max_height": null,
            "max_width": null,
            "min_height": null,
            "min_width": null,
            "object_fit": null,
            "object_position": null,
            "order": null,
            "overflow": null,
            "overflow_x": null,
            "overflow_y": null,
            "padding": null,
            "right": null,
            "top": null,
            "visibility": null,
            "width": null
          }
        },
        "59093c2dbcc34a79befab66463f89292": {
          "model_module": "@jupyter-widgets/controls",
          "model_name": "DescriptionStyleModel",
          "model_module_version": "1.5.0",
          "state": {
            "_model_module": "@jupyter-widgets/controls",
            "_model_module_version": "1.5.0",
            "_model_name": "DescriptionStyleModel",
            "_view_count": null,
            "_view_module": "@jupyter-widgets/base",
            "_view_module_version": "1.2.0",
            "_view_name": "StyleView",
            "description_width": ""
          }
        },
        "14725beec34b462b9f26ad9c85ceba37": {
          "model_module": "@jupyter-widgets/base",
          "model_name": "LayoutModel",
          "model_module_version": "1.2.0",
          "state": {
            "_model_module": "@jupyter-widgets/base",
            "_model_module_version": "1.2.0",
            "_model_name": "LayoutModel",
            "_view_count": null,
            "_view_module": "@jupyter-widgets/base",
            "_view_module_version": "1.2.0",
            "_view_name": "LayoutView",
            "align_content": null,
            "align_items": null,
            "align_self": null,
            "border": null,
            "bottom": null,
            "display": null,
            "flex": null,
            "flex_flow": null,
            "grid_area": null,
            "grid_auto_columns": null,
            "grid_auto_flow": null,
            "grid_auto_rows": null,
            "grid_column": null,
            "grid_gap": null,
            "grid_row": null,
            "grid_template_areas": null,
            "grid_template_columns": null,
            "grid_template_rows": null,
            "height": null,
            "justify_content": null,
            "justify_items": null,
            "left": null,
            "margin": null,
            "max_height": null,
            "max_width": null,
            "min_height": null,
            "min_width": null,
            "object_fit": null,
            "object_position": null,
            "order": null,
            "overflow": null,
            "overflow_x": null,
            "overflow_y": null,
            "padding": null,
            "right": null,
            "top": null,
            "visibility": null,
            "width": null
          }
        },
        "aee657f8c9c74170912e10ea449127c5": {
          "model_module": "@jupyter-widgets/controls",
          "model_name": "ProgressStyleModel",
          "model_module_version": "1.5.0",
          "state": {
            "_model_module": "@jupyter-widgets/controls",
            "_model_module_version": "1.5.0",
            "_model_name": "ProgressStyleModel",
            "_view_count": null,
            "_view_module": "@jupyter-widgets/base",
            "_view_module_version": "1.2.0",
            "_view_name": "StyleView",
            "bar_color": null,
            "description_width": ""
          }
        },
        "2668503e01db459dabc55083c1b3a167": {
          "model_module": "@jupyter-widgets/base",
          "model_name": "LayoutModel",
          "model_module_version": "1.2.0",
          "state": {
            "_model_module": "@jupyter-widgets/base",
            "_model_module_version": "1.2.0",
            "_model_name": "LayoutModel",
            "_view_count": null,
            "_view_module": "@jupyter-widgets/base",
            "_view_module_version": "1.2.0",
            "_view_name": "LayoutView",
            "align_content": null,
            "align_items": null,
            "align_self": null,
            "border": null,
            "bottom": null,
            "display": null,
            "flex": null,
            "flex_flow": null,
            "grid_area": null,
            "grid_auto_columns": null,
            "grid_auto_flow": null,
            "grid_auto_rows": null,
            "grid_column": null,
            "grid_gap": null,
            "grid_row": null,
            "grid_template_areas": null,
            "grid_template_columns": null,
            "grid_template_rows": null,
            "height": null,
            "justify_content": null,
            "justify_items": null,
            "left": null,
            "margin": null,
            "max_height": null,
            "max_width": null,
            "min_height": null,
            "min_width": null,
            "object_fit": null,
            "object_position": null,
            "order": null,
            "overflow": null,
            "overflow_x": null,
            "overflow_y": null,
            "padding": null,
            "right": null,
            "top": null,
            "visibility": null,
            "width": null
          }
        },
        "7dbda79e5fd54653b5e473d65ec59e70": {
          "model_module": "@jupyter-widgets/controls",
          "model_name": "DescriptionStyleModel",
          "model_module_version": "1.5.0",
          "state": {
            "_model_module": "@jupyter-widgets/controls",
            "_model_module_version": "1.5.0",
            "_model_name": "DescriptionStyleModel",
            "_view_count": null,
            "_view_module": "@jupyter-widgets/base",
            "_view_module_version": "1.2.0",
            "_view_name": "StyleView",
            "description_width": ""
          }
        }
      }
    }
  },
  "cells": [
    {
      "cell_type": "markdown",
      "metadata": {
        "id": "view-in-github",
        "colab_type": "text"
      },
      "source": [
        "<a href=\"https://colab.research.google.com/github/GrzegorzSzczepanek/deep_learning_fun/blob/main/training_on_basic_linear_model.ipynb\" target=\"_parent\"><img src=\"https://colab.research.google.com/assets/colab-badge.svg\" alt=\"Open In Colab\"/></a>"
      ]
    },
    {
      "cell_type": "code",
      "execution_count": null,
      "metadata": {
        "id": "Vv24SqHsHhaO"
      },
      "outputs": [],
      "source": [
        "import torch\n",
        "import matplotlib.pyplot as plt\n",
        "import numpy as np\n",
        "from torch import nn\n",
        "from torch.utils.data import DataLoader"
      ]
    },
    {
      "cell_type": "code",
      "source": [
        "random_tensor = torch.rand(2, 3)\n",
        "random_tensor = torch.where(random_tensor >= 0.5, 1, 0)\n",
        "\n",
        "random_tensor"
      ],
      "metadata": {
        "colab": {
          "base_uri": "https://localhost:8080/"
        },
        "id": "PfdaTel_HjKd",
        "outputId": "f17db6f7-8946-42c9-de9f-ef71b4fd816b"
      },
      "execution_count": null,
      "outputs": [
        {
          "output_type": "execute_result",
          "data": {
            "text/plain": [
              "tensor([[0, 1, 0],\n",
              "        [1, 1, 0]])"
            ]
          },
          "metadata": {},
          "execution_count": 41
        }
      ]
    },
    {
      "cell_type": "code",
      "source": [
        "weight = 0.3\n",
        "bias = 0.9\n",
        "start = 0\n",
        "end = 2\n",
        "step = 0.02\n",
        "torch.device('cuda:0' if torch.cuda.is_available() else 'cpu')\n",
        "\n",
        "X = torch.arange(start, end, step).unsqueeze(dim=1)\n",
        "y = weight * X + bias\n",
        "# Create train/test split\n",
        "train_split = int(0.8 * len(X))\n",
        "X_train, y_train = X[:train_split], y[:train_split]\n",
        "X_test, y_test = X[train_split:], y[train_split:]\n",
        "len(X_train), len(y_train), len(X_test), len(y_test)"
      ],
      "metadata": {
        "id": "t8tSkpa_I3H7",
        "colab": {
          "base_uri": "https://localhost:8080/"
        },
        "outputId": "3244980b-3399-40a2-8490-e8c853e716a0"
      },
      "execution_count": null,
      "outputs": [
        {
          "output_type": "execute_result",
          "data": {
            "text/plain": [
              "(80, 80, 20, 20)"
            ]
          },
          "metadata": {},
          "execution_count": 42
        }
      ]
    },
    {
      "cell_type": "code",
      "source": [
        "def plot_predictions(train_data=X_train,\n",
        "                     train_labels=y_train,\n",
        "                     test_data=X_test,\n",
        "                     test_labels=y_test,\n",
        "                     predictions=None):\n",
        "  plt.figure(figsize=(10, 7))\n",
        "  plt.scatter(train_data, train_labels, c=\"b\", s=4, label=\"training_data\")\n",
        "  plt.scatter(test_data, test_labels, c=\"g\", s=4, label=\"testing_data\")\n",
        "\n",
        "  if predictions is not None:\n",
        "    plt.scatter(test_data, predictions, c=\"r\", s=4, label=\"Predictions\")\n",
        "\n",
        "  plt.legend(prop={\"size\": 14});"
      ],
      "metadata": {
        "id": "CvXqI63HaBRR"
      },
      "execution_count": null,
      "outputs": []
    },
    {
      "cell_type": "code",
      "source": [
        "plot_predictions()"
      ],
      "metadata": {
        "colab": {
          "base_uri": "https://localhost:8080/",
          "height": 599
        },
        "id": "ByXXgxRpaiHd",
        "outputId": "c3ea12c5-4b11-4c6f-8175-16bf6977e6f7"
      },
      "execution_count": null,
      "outputs": [
        {
          "output_type": "display_data",
          "data": {
            "text/plain": [
              "<Figure size 1000x700 with 1 Axes>"
            ],
            "image/png": "[encoded data removed]"
          },
          "metadata": {}
        }
      ]
    },
    {
      "cell_type": "code",
      "source": [
        "class Linear_Model(nn.Module):\n",
        "  def __init__(self,\n",
        "               input_shape: int,\n",
        "               hidden_units: int,\n",
        "               out_features: int):\n",
        "    super().__init__()\n",
        "\n",
        "    self.weights = nn.Parameter(torch.randn(1,\n",
        "                                            requires_grad=True,\n",
        "                                            dtype=torch.float))\n",
        "    self.bias = nn.Parameter(torch.randn(1,\n",
        "                                         requires_grad=True,\n",
        "                                         dtype=torch.float))\n",
        "\n",
        "    self.layer_block1 = nn.Sequential(\n",
        "        nn.Linear(in_features=input_shape,\n",
        "                  out_features=hidden_units),\n",
        "        nn.Linear(in_features=hidden_units,\n",
        "                  out_features=hidden_units),\n",
        "        nn.Linear(in_features=hidden_units,\n",
        "                  out_features=out_features)\n",
        "    )\n",
        "\n",
        "  def forward(self, x):\n",
        "    return self.layer_block1(x)\n",
        "\n",
        "model = Linear_Model(input_shape=1, hidden_units=1, out_features=1).to(device)\n",
        "model, model.state_dict()"
      ],
      "metadata": {
        "colab": {
          "base_uri": "https://localhost:8080/"
        },
        "id": "-GpMY-e0fISm",
        "outputId": "217c1185-290e-48ee-cee9-932ec3c098db"
      },
      "execution_count": null,
      "outputs": [
        {
          "output_type": "execute_result",
          "data": {
            "text/plain": [
              "(Linear_Model(\n",
              "   (layer_block1): Sequential(\n",
              "     (0): Linear(in_features=1, out_features=1, bias=True)\n",
              "     (1): Linear(in_features=1, out_features=1, bias=True)\n",
              "     (2): Linear(in_features=1, out_features=1, bias=True)\n",
              "   )\n",
              " ),\n",
              " OrderedDict([('weights', tensor([-0.7019])),\n",
              "              ('bias', tensor([-0.4096])),\n",
              "              ('layer_block1.0.weight', tensor([[-0.0924]])),\n",
              "              ('layer_block1.0.bias', tensor([-0.0099])),\n",
              "              ('layer_block1.1.weight', tensor([[0.7310]])),\n",
              "              ('layer_block1.1.bias', tensor([-0.4622])),\n",
              "              ('layer_block1.2.weight', tensor([[-0.8900]])),\n",
              "              ('layer_block1.2.bias', tensor([-0.5201]))]))"
            ]
          },
          "metadata": {},
          "execution_count": 45
        }
      ]
    },
    {
      "cell_type": "code",
      "source": [
        "loss_fn = torch.nn.L1Loss()\n",
        "optimizer = torch.optim.Adam(model.parameters(),\n",
        "                             lr=0.01)"
      ],
      "metadata": {
        "id": "f-xTqNAMiuKK"
      },
      "execution_count": null,
      "outputs": []
    },
    {
      "cell_type": "code",
      "source": [
        "def train_step(model: torch.nn.Module,\n",
        "               data: torch.Tensor,\n",
        "               labels: torch.Tensor,\n",
        "               loss_fn: torch.nn,\n",
        "               optimizer: torch.optim):\n",
        "  pred = model(data)\n",
        "  loss = loss_fn(pred, labels)\n",
        "  optimizer.zero_grad()\n",
        "  loss.backward()\n",
        "  optimizer.step()\n",
        "\n"
      ],
      "metadata": {
        "id": "Divmrr7K1enw"
      },
      "execution_count": null,
      "outputs": []
    },
    {
      "cell_type": "code",
      "source": [
        "def test_step(model: torch.nn.Module,\n",
        "              data: torch.Tensor,\n",
        "              labels: torch.Tensor,\n",
        "              loss_fn: torch.nn):\n",
        "  with torch.inference_mode():\n",
        "    pred = model(data)\n",
        "    test_loss = loss_fn(pred, labels)\n"
      ],
      "metadata": {
        "id": "V-YWNuL45HdY"
      },
      "execution_count": null,
      "outputs": []
    },
    {
      "cell_type": "code",
      "source": [
        "from tqdm.auto import tqdm\n",
        "\n",
        "def train_and_test(model: torch.nn.Module,\n",
        "                   training_data: torch.Tensor,\n",
        "                   training_labels: torch.tensor,\n",
        "                   test_data: torch.Tensor,\n",
        "                   test_labels: torch.Tensor,\n",
        "                   loss_fn: torch.nn,\n",
        "                   optimizer: torch.optim,\n",
        "                   epochs: int,\n",
        "                   device = device):\n",
        "  model.to(device)\n",
        "  training_data, training_labels = training_data.to(device), training_labels.to(device)\n",
        "  test_data, test_labels = test_data.to(device), test_labels.to(device)\n",
        "\n",
        "  for epoch in tqdm(range(epochs)):\n",
        "    model.train()\n",
        "    train_step(model=model, data=training_data, labels=training_labels, loss_fn=loss_fn, optimizer=optimizer)\n",
        "    model.eval()\n",
        "    test_step(model=model, data=X_test, labels=y_test, loss_fn=loss_fn)\n",
        "\n",
        "    if epoch % 100 == 0:\n",
        "      print(f\"Epoch: {epoch} | Train loss: {loss} | Test loss: {test_loss}\")"
      ],
      "metadata": {
        "id": "9yZgiqJS3Pm-"
      },
      "execution_count": null,
      "outputs": []
    },
    {
      "cell_type": "code",
      "source": [
        "train_and_test(model=model,\n",
        "               training_data=X_train,\n",
        "               training_labels=y_train,\n",
        "               test_data=X_test,\n",
        "               test_labels=y_test,\n",
        "               loss_fn=loss_fn,\n",
        "               optimizer=optimizer,\n",
        "               epochs=300)"
      ],
      "metadata": {
        "colab": {
          "base_uri": "https://localhost:8080/",
          "height": 101,
          "referenced_widgets": [
            "82a1a1f39c0b47a09766f11042d2e04d",
            "3a222ac1e7ae443e92835fa27e1b77b8",
            "44134a08b86f483bab3b2babc19b8f29",
            "4a9114abb4314572bcd68799d87d4487",
            "b23376ffe0a342f19d3d1a97d81e3f47",
            "a66f0709b98b435f94069f820c8a424a",
            "59093c2dbcc34a79befab66463f89292",
            "14725beec34b462b9f26ad9c85ceba37",
            "aee657f8c9c74170912e10ea449127c5",
            "2668503e01db459dabc55083c1b3a167",
            "7dbda79e5fd54653b5e473d65ec59e70"
          ]
        },
        "id": "UlirBDeM73PD",
        "outputId": "50984784-db21-414b-a5a6-b04bac75f376"
      },
      "execution_count": null,
      "outputs": [
        {
          "output_type": "display_data",
          "data": {
            "text/plain": [
              "  0%|          | 0/300 [00:00<?, ?it/s]"
            ],
            "application/vnd.jupyter.widget-view+json": {
              "version_major": 2,
              "version_minor": 0,
              "model_id": "82a1a1f39c0b47a09766f11042d2e04d"
            }
          },
          "metadata": {}
        },
        {
          "output_type": "stream",
          "name": "stdout",
          "text": [
            "Epoch: 0 | Train loss: (0.0,) | Test loss: 0.0\n",
            "Epoch: 100 | Train loss: (0.0,) | Test loss: 0.0\n",
            "Epoch: 200 | Train loss: (0.0,) | Test loss: 0.0\n"
          ]
        }
      ]
    },
    {
      "cell_type": "code",
      "source": [
        "# Turn model into evaluation mode\n",
        "model.eval()\n",
        "\n",
        "# Make predictions on the test data\n",
        "with torch.inference_mode():\n",
        "    y_preds = model(X_test)\n",
        "y_preds"
      ],
      "metadata": {
        "colab": {
          "base_uri": "https://localhost:8080/"
        },
        "id": "Pz_YmfEV8xf0",
        "outputId": "5e130253-4ea6-4c03-f8bd-ca835561e7b8"
      },
      "execution_count": null,
      "outputs": [
        {
          "output_type": "execute_result",
          "data": {
            "text/plain": [
              "tensor([[1.3851],\n",
              "        [1.3911],\n",
              "        [1.3971],\n",
              "        [1.4031],\n",
              "        [1.4091],\n",
              "        [1.4151],\n",
              "        [1.4211],\n",
              "        [1.4271],\n",
              "        [1.4332],\n",
              "        [1.4392],\n",
              "        [1.4452],\n",
              "        [1.4512],\n",
              "        [1.4572],\n",
              "        [1.4632],\n",
              "        [1.4692],\n",
              "        [1.4752],\n",
              "        [1.4812],\n",
              "        [1.4872],\n",
              "        [1.4932],\n",
              "        [1.4993]])"
            ]
          },
          "metadata": {},
          "execution_count": 52
        }
      ]
    },
    {
      "cell_type": "code",
      "source": [
        "# plot_predictions(predictions=y_preds) # -> won't work... data not on CPU\n",
        "\n",
        "# Put data on the CPU and plot it\n",
        "plot_predictions(predictions=y_preds.cpu())"
      ],
      "metadata": {
        "id": "1H3xPr2LBjv5",
        "outputId": "2294d53d-01e7-4293-e266-4edd4c2c2f41",
        "colab": {
          "base_uri": "https://localhost:8080/",
          "height": 599
        }
      },
      "execution_count": null,
      "outputs": [
        {
          "output_type": "display_data",
          "data": {
            "text/plain": [
              "<Figure size 1000x700 with 1 Axes>"
            ],
            "image/png": "[encoded data removed]"
          },
          "metadata": {}
        }
      ]
    },
    {
      "cell_type": "code",
      "source": [],
      "metadata": {
        "id": "kkBmAPNWBnRP"
      },
      "execution_count": null,
      "outputs": []
    }
  ]
}