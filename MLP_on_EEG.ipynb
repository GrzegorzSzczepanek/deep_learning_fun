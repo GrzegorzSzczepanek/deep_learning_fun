{
  "cells": [
    {
      "cell_type": "markdown",
      "metadata": {
        "id": "bg7ngXlHcUsf"
      },
      "source": [
        "# My attempt of creating a MLP neural network for predicting the flag."
      ]
    },
    {
      "cell_type": "code",
      "execution_count": 216,
      "metadata": {
        "id": "eJuvGVmvWMbP"
      },
      "outputs": [],
      "source": [
        "import numpy as np\n",
        "import pandas as pd\n",
        "import matplotlib.pyplot as plt\n",
        "from sklearn.model_selection import train_test_split\n",
        "import torch\n",
        "from torch.utils.data import DataLoader, TensorDataset\n",
        "from torch import nn"
      ]
    },
    {
      "cell_type": "markdown",
      "metadata": {
        "id": "EEx6eJiFeyd_"
      },
      "source": [
        "###Let's define constants for this code"
      ]
    },
    {
      "cell_type": "code",
      "execution_count": 217,
      "metadata": {
        "id": "FcXbp8gYZrTh"
      },
      "outputs": [],
      "source": [
        "device = \"cuda\" if torch.cuda.is_available() else \"cpu\"\n",
        "BATCH_SIZE = 32\n",
        "EPOCHS = 4\n",
        "LEARNING_RATE = 0.001"
      ]
    },
    {
      "cell_type": "code",
      "execution_count": 218,
      "metadata": {
        "colab": {
          "base_uri": "https://localhost:8080/",
          "height": 206
        },
        "id": "hoSfM6Hpk4QX",
        "outputId": "e48cd664-7677-491b-e36a-3c9eaffbcfb7"
      },
      "outputs": [
        {
          "data": {
            "text/html": [
              "<div>\n",
              "<style scoped>\n",
              "    .dataframe tbody tr th:only-of-type {\n",
              "        vertical-align: middle;\n",
              "    }\n",
              "\n",
              "    .dataframe tbody tr th {\n",
              "        vertical-align: top;\n",
              "    }\n",
              "\n",
              "    .dataframe thead th {\n",
              "        text-align: right;\n",
              "    }\n",
              "</style>\n",
              "<table border=\"1\" class=\"dataframe\">\n",
              "  <thead>\n",
              "    <tr style=\"text-align: right;\">\n",
              "      <th></th>\n",
              "      <th>Delta</th>\n",
              "      <th>Theta</th>\n",
              "      <th>Alpha_low</th>\n",
              "      <th>Alpha_high</th>\n",
              "      <th>Beta_low</th>\n",
              "      <th>Beta_high</th>\n",
              "      <th>Gamma_low</th>\n",
              "      <th>Gamma_high</th>\n",
              "      <th>Attention</th>\n",
              "      <th>Meditation</th>\n",
              "      <th>BlinkStrength</th>\n",
              "      <th>Flag</th>\n",
              "    </tr>\n",
              "  </thead>\n",
              "  <tbody>\n",
              "    <tr>\n",
              "      <th>0</th>\n",
              "      <td>785389</td>\n",
              "      <td>114375</td>\n",
              "      <td>57106</td>\n",
              "      <td>37625</td>\n",
              "      <td>24464</td>\n",
              "      <td>17104</td>\n",
              "      <td>15846</td>\n",
              "      <td>8024</td>\n",
              "      <td>45</td>\n",
              "      <td>91</td>\n",
              "      <td>15</td>\n",
              "      <td>1</td>\n",
              "    </tr>\n",
              "    <tr>\n",
              "      <th>1</th>\n",
              "      <td>386949</td>\n",
              "      <td>80792</td>\n",
              "      <td>23506</td>\n",
              "      <td>22118</td>\n",
              "      <td>9566</td>\n",
              "      <td>7147</td>\n",
              "      <td>5392</td>\n",
              "      <td>1697</td>\n",
              "      <td>8</td>\n",
              "      <td>42</td>\n",
              "      <td>6</td>\n",
              "      <td>0</td>\n",
              "    </tr>\n",
              "    <tr>\n",
              "      <th>2</th>\n",
              "      <td>21453</td>\n",
              "      <td>14085</td>\n",
              "      <td>4756</td>\n",
              "      <td>5062</td>\n",
              "      <td>2176</td>\n",
              "      <td>2117</td>\n",
              "      <td>2867</td>\n",
              "      <td>862</td>\n",
              "      <td>48</td>\n",
              "      <td>66</td>\n",
              "      <td>9</td>\n",
              "      <td>1</td>\n",
              "    </tr>\n",
              "    <tr>\n",
              "      <th>3</th>\n",
              "      <td>322637</td>\n",
              "      <td>56936</td>\n",
              "      <td>17810</td>\n",
              "      <td>25793</td>\n",
              "      <td>15870</td>\n",
              "      <td>8050</td>\n",
              "      <td>3621</td>\n",
              "      <td>2100</td>\n",
              "      <td>25</td>\n",
              "      <td>69</td>\n",
              "      <td>8</td>\n",
              "      <td>0</td>\n",
              "    </tr>\n",
              "    <tr>\n",
              "      <th>4</th>\n",
              "      <td>19412</td>\n",
              "      <td>12985</td>\n",
              "      <td>6416</td>\n",
              "      <td>6131</td>\n",
              "      <td>7126</td>\n",
              "      <td>7419</td>\n",
              "      <td>2677</td>\n",
              "      <td>1884</td>\n",
              "      <td>80</td>\n",
              "      <td>53</td>\n",
              "      <td>-1</td>\n",
              "      <td>1</td>\n",
              "    </tr>\n",
              "  </tbody>\n",
              "</table>\n",
              "</div>"
            ],
            "text/plain": [
              "    Delta   Theta  Alpha_low  Alpha_high  Beta_low  Beta_high  Gamma_low  \\\n",
              "0  785389  114375      57106       37625     24464      17104      15846   \n",
              "1  386949   80792      23506       22118      9566       7147       5392   \n",
              "2   21453   14085       4756        5062      2176       2117       2867   \n",
              "3  322637   56936      17810       25793     15870       8050       3621   \n",
              "4   19412   12985       6416        6131      7126       7419       2677   \n",
              "\n",
              "   Gamma_high  Attention  Meditation  BlinkStrength  Flag  \n",
              "0        8024         45          91             15     1  \n",
              "1        1697          8          42              6     0  \n",
              "2         862         48          66              9     1  \n",
              "3        2100         25          69              8     0  \n",
              "4        1884         80          53             -1     1  "
            ]
          },
          "execution_count": 218,
          "metadata": {},
          "output_type": "execute_result"
        }
      ],
      "source": [
        "dataset = pd.read_csv(\"/home/grzesiek/documents/programming/machine_learning/neuron/warsztat-ai/datasets/autentykacja_eeg.csv\", delimiter=\";\")\n",
        "dataset.head()"
      ]
    },
    {
      "cell_type": "code",
      "execution_count": 219,
      "metadata": {
        "id": "QbIvRXthlIER"
      },
      "outputs": [],
      "source": [
        "# Try creating validation sets next time\n",
        "X = torch.tensor(dataset.loc[:, \"Delta\": \"BlinkStrength\"].values, dtype=torch.float32)\n",
        "y = torch.tensor(dataset.Flag.values, dtype=torch.float32)\n",
        "\n",
        "X_train, X_test, y_train, y_test = train_test_split(X, y, test_size=0.2, random_state=1)"
      ]
    },
    {
      "cell_type": "code",
      "execution_count": 220,
      "metadata": {
        "colab": {
          "base_uri": "https://localhost:8080/"
        },
        "id": "sTPqYIA2nNwN",
        "outputId": "0c144700-43f5-40e4-8610-bb4e5e336d6e"
      },
      "outputs": [
        {
          "data": {
            "text/plain": [
              "(torch.Size([4195, 11]),\n",
              " torch.Size([1049, 11]),\n",
              " torch.Size([4195]),\n",
              " torch.Size([1049]))"
            ]
          },
          "execution_count": 220,
          "metadata": {},
          "output_type": "execute_result"
        }
      ],
      "source": [
        "X_train.shape, X_test.shape, y_train.shape, y_test.shape"
      ]
    },
    {
      "cell_type": "code",
      "execution_count": 221,
      "metadata": {},
      "outputs": [],
      "source": [
        "y_train = y_train.unsqueeze(1)\n",
        "y_test = y_test.unsqueeze(1)"
      ]
    },
    {
      "cell_type": "markdown",
      "metadata": {
        "id": "1RlidnRQdgoy"
      },
      "source": [
        "## Let's create a datasets and proceed so we can make a dataloaders out of them."
      ]
    },
    {
      "cell_type": "code",
      "execution_count": 222,
      "metadata": {
        "colab": {
          "base_uri": "https://localhost:8080/"
        },
        "id": "NfaiTsjIbM7p",
        "outputId": "4f6f1f97-2a26-4e76-a719-dd0bc7c55ac3"
      },
      "outputs": [],
      "source": [
        "def create_dataloader(X_train, y_train, X_test, y_test):\n",
        "    train_dataset = TensorDataset(X_train, y_train)\n",
        "    test_dataset = TensorDataset(X_test, y_test)\n",
        "    \n",
        "    train_dataloader = DataLoader(\n",
        "        train_dataset,\n",
        "        batch_size=BATCH_SIZE,\n",
        "        shuffle=True\n",
        "    \n",
        "    )\n",
        "    test_dataloader = DataLoader(\n",
        "        test_dataset,\n",
        "        batch_size=BATCH_SIZE,\n",
        "        shuffle=False\n",
        "    )\n",
        "    print(f\"Train DataLoader length: {len(train_dataloader)} | Batch Size: {BATCH_SIZE}\")\n",
        "    print(f\"Test DataLoader length: {len(test_dataloader)} | Batch Size: {BATCH_SIZE}\")\n",
        "    return train_dataloader, test_dataloader"
      ]
    },
    {
      "cell_type": "code",
      "execution_count": 223,
      "metadata": {},
      "outputs": [
        {
          "name": "stdout",
          "output_type": "stream",
          "text": [
            "Train DataLoader length: 132 | Batch Size: 32\n",
            "Test DataLoader length: 33 | Batch Size: 32\n"
          ]
        }
      ],
      "source": [
        "train_dataloader, test_dataloader = create_dataloader(X_train, y_train, X_test, y_test)"
      ]
    },
    {
      "cell_type": "markdown",
      "metadata": {
        "id": "QwG5u4HjYvii"
      },
      "source": [
        "## First of all, I'll try to train my neural network on unchanged data."
      ]
    },
    {
      "cell_type": "code",
      "execution_count": 224,
      "metadata": {
        "colab": {
          "base_uri": "https://localhost:8080/"
        },
        "id": "yKH78u-ja_uE",
        "outputId": "20b01997-99ab-4320-fce4-1a851df6ef7d"
      },
      "outputs": [
        {
          "data": {
            "text/plain": [
              "FlagModel(\n",
              "  (block_1): Sequential(\n",
              "    (0): Linear(in_features=11, out_features=33, bias=True)\n",
              "    (1): ReLU()\n",
              "    (2): Linear(in_features=33, out_features=33, bias=True)\n",
              "    (3): ReLU()\n",
              "    (4): Linear(in_features=33, out_features=1, bias=True)\n",
              "    (5): Sigmoid()\n",
              "  )\n",
              ")"
            ]
          },
          "execution_count": 224,
          "metadata": {},
          "output_type": "execute_result"
        }
      ],
      "source": [
        "input = len(dataset.columns.values) - 1\n",
        "output = 1\n",
        "\n",
        "\n",
        "class FlagModel(nn.Module):\n",
        "    def __init__(self, input_shape: int, hidden_units: int, output_shape: int):\n",
        "        super().__init__()\n",
        "\n",
        "        self.block_1 = nn.Sequential(\n",
        "            nn.Linear(in_features=input_shape, out_features=hidden_units),\n",
        "            nn.ReLU(),\n",
        "            nn.Linear(in_features=hidden_units, out_features=hidden_units),\n",
        "            nn.ReLU(),\n",
        "            nn.Linear(in_features=hidden_units, out_features=output_shape),\n",
        "            nn.Sigmoid(),\n",
        "            \n",
        "        )\n",
        "\n",
        "    def forward(self, x):\n",
        "        return self.block_1(x)\n",
        "\n",
        "\n",
        "flag_model_1 = FlagModel(input, 33, output).to(device)\n",
        "flag_model_1"
      ]
    },
    {
      "cell_type": "code",
      "execution_count": 225,
      "metadata": {
        "id": "5c1TUzaIa_p1"
      },
      "outputs": [],
      "source": [
        "def accuracy_fn(y_true: torch.Tensor, y_pred: torch.Tensor) -> [torch.float]:\n",
        "    correct = torch.eq(y_true, y_pred).sum().item()\n",
        "    acc = (correct / len(y_pred)) * 100\n",
        "    return acc\n",
        "\n",
        "# loss_fn = nn.BCEWithLogitsLoss()\n",
        "loss_fn = nn.BCELoss()\n",
        "\n",
        "optimizer = torch.optim.SGD(params=flag_model_1.parameters(), lr=LEARNING_RATE)"
      ]
    },
    {
      "cell_type": "code",
      "execution_count": 226,
      "metadata": {
        "id": "l-DG01LBa_mw"
      },
      "outputs": [],
      "source": [
        "# TODO use sigmoid in model, not train\n",
        "\n",
        "def train_step(model: torch.nn.Module,\n",
        "               data_loader: torch.utils.data.DataLoader,\n",
        "               loss_fn: torch.nn.Module,\n",
        "               optimizer: torch.optim.Optimizer,\n",
        "               accuracy_fn,\n",
        "               device: torch.device = device):\n",
        "    train_loss, train_acc = 0, 0\n",
        "    model.train()\n",
        "\n",
        "    for batch in data_loader:\n",
        "        X, y = batch\n",
        "        X, y = X.to(device), y.to(device)\n",
        "        logits = model(X)\n",
        "        pred = torch.round(logits)\n",
        "\n",
        "        loss = loss_fn(logits, y)\n",
        "        acc = accuracy_fn(y_true=y, y_pred=pred)\n",
        "        optimizer.zero_grad()\n",
        "        loss.backward()\n",
        "        optimizer.step()\n",
        "\n",
        "        train_loss += loss.item()\n",
        "        train_acc += acc\n",
        "\n",
        "    return train_loss / len(data_loader), train_acc / len(data_loader)\n"
      ]
    },
    {
      "cell_type": "code",
      "execution_count": 227,
      "metadata": {
        "id": "V4fDzN61a_jN"
      },
      "outputs": [],
      "source": [
        "def test_step(model: torch.nn.Module,\n",
        "               data_loader: torch.utils.data.DataLoader,\n",
        "               loss_fn: torch.nn.Module,\n",
        "               accuracy_fn,\n",
        "               device:torch.device = device):\n",
        "    model.eval()\n",
        "    test_loss, test_acc = 0, 0\n",
        "    with torch.inference_mode():\n",
        "        \n",
        "        for batch in data_loader:\n",
        "            X, y = batch\n",
        "            X, y = X.to(device), y.to(device)\n",
        "            logits = model(X)\n",
        "            pred = torch.round(logits)\n",
        "            loss = loss_fn(logits, y)\n",
        "            acc = accuracy_fn(y_true=y, y_pred=pred)\n",
        "\n",
        "            test_loss += loss\n",
        "            test_acc += acc\n",
        "\n",
        "        return loss, acc\n",
        "\n"
      ]
    },
    {
      "cell_type": "code",
      "execution_count": 228,
      "metadata": {
        "id": "5QoSJrtxa_f8"
      },
      "outputs": [],
      "source": [
        "from timeit import default_timer as timer\n",
        "from tqdm.auto import tqdm\n",
        "\n",
        "train_time_start = timer()\n",
        "\n",
        "torch.manual_seed(42)\n",
        "\n",
        "def train(model: torch.nn.Module,\n",
        "          train_data: torch.utils.data.DataLoader,\n",
        "          test_data: torch.utils.data.DataLoader,\n",
        "          loss_fn: torch.nn.Module,\n",
        "          optimizer: torch.optim.Optimizer,\n",
        "          accuracy_fn,\n",
        "          epochs: int,\n",
        "          device:torch.device = device):\n",
        "\n",
        "    for epoch in tqdm(range(EPOCHS)):\n",
        "        train_loss, train_acc = train_step(model=model,\n",
        "                                        data_loader=train_data,\n",
        "                                        loss_fn=loss_fn,\n",
        "                                        optimizer=optimizer,\n",
        "                                        accuracy_fn=accuracy_fn,\n",
        "                                        device=device)\n",
        "        test_loss, test_acc = test_step(model=model,\n",
        "                                        data_loader=test_data,\n",
        "                                        loss_fn=loss_fn,\n",
        "                                        accuracy_fn=accuracy_fn,\n",
        "                                        device=device)\n",
        "\n",
        "\n",
        "        print(f\"\\nEpoch: {epoch} | Train Loss: {train_loss:.2f} | Train Acc: {train_acc:.2f}% | Test loss: {test_loss} | Test Acc: {test_acc:.2f}%\")\n",
        "\n",
        "    train_time_end = timer()\n",
        "    print(f\"\\nTraining was done in {(train_time_end - train_time_start):.2f} seconds\")"
      ]
    },
    {
      "cell_type": "code",
      "execution_count": 229,
      "metadata": {
        "colab": {
          "base_uri": "https://localhost:8080/",
          "height": 437,
          "referenced_widgets": [
            "a70778d220054505a183d31c879a8eca",
            "03d4b5b1656b4748ab4b11e9abb38bd4",
            "377bb1f9a54e4e4491cc72845ebb3668",
            "685f0af5d2d14ff895a0cf5c8ba8331f",
            "9a89085b2a504485b989a727afb8504c",
            "123010fb9b4747a6979342aed38d3a79",
            "1fa7eb4654e3436c8d43091d368ed0a2",
            "204a6cad6bd842d4b881f6cc905eb67d",
            "ae4f0a2bab994ca5ae3b37786b405bc0",
            "8859e5e443a34371b40dabd8162f9ce7",
            "f010dc6e68964610817def2c8e80b743"
          ]
        },
        "id": "4LdPoOfta_cj",
        "outputId": "dfb87172-fe7d-457d-8852-40c873df3bc7"
      },
      "outputs": [
        {
          "name": "stderr",
          "output_type": "stream",
          "text": [
            " 50%|█████     | 2/4 [00:00<00:00,  5.37it/s]"
          ]
        },
        {
          "name": "stdout",
          "output_type": "stream",
          "text": [
            "\n",
            "Epoch: 0 | Train Loss: 40.57 | Train Acc: 59.37% | Test loss: 52.0 | Test Acc: 48.00%\n",
            "\n",
            "Epoch: 1 | Train Loss: 40.51 | Train Acc: 59.49% | Test loss: 52.0 | Test Acc: 48.00%\n"
          ]
        },
        {
          "name": "stderr",
          "output_type": "stream",
          "text": [
            "100%|██████████| 4/4 [00:00<00:00,  5.40it/s]"
          ]
        },
        {
          "name": "stdout",
          "output_type": "stream",
          "text": [
            "\n",
            "Epoch: 2 | Train Loss: 40.74 | Train Acc: 59.26% | Test loss: 52.0 | Test Acc: 48.00%\n",
            "\n",
            "Epoch: 3 | Train Loss: 40.51 | Train Acc: 59.49% | Test loss: 52.0 | Test Acc: 48.00%\n",
            "\n",
            "Training was done in 0.76 seconds\n"
          ]
        },
        {
          "name": "stderr",
          "output_type": "stream",
          "text": [
            "\n"
          ]
        }
      ],
      "source": [
        "train(model=flag_model_1,\n",
        "      train_data=train_dataloader,\n",
        "      test_data=test_dataloader,\n",
        "      loss_fn=loss_fn,\n",
        "      optimizer=optimizer,\n",
        "      accuracy_fn=accuracy_fn,\n",
        "      epochs=EPOCHS)"
      ]
    },
    {
      "cell_type": "markdown",
      "metadata": {},
      "source": [
        "# Since predicting on unchanged data wasn't fruitful I'll try to modify them using log function"
      ]
    },
    {
      "cell_type": "code",
      "execution_count": 230,
      "metadata": {},
      "outputs": [
        {
          "data": {
            "text/html": [
              "<div>\n",
              "<style scoped>\n",
              "    .dataframe tbody tr th:only-of-type {\n",
              "        vertical-align: middle;\n",
              "    }\n",
              "\n",
              "    .dataframe tbody tr th {\n",
              "        vertical-align: top;\n",
              "    }\n",
              "\n",
              "    .dataframe thead th {\n",
              "        text-align: right;\n",
              "    }\n",
              "</style>\n",
              "<table border=\"1\" class=\"dataframe\">\n",
              "  <thead>\n",
              "    <tr style=\"text-align: right;\">\n",
              "      <th></th>\n",
              "      <th>Delta_log</th>\n",
              "      <th>Theta_log</th>\n",
              "      <th>Alpha_low_log</th>\n",
              "      <th>Alpha_high_log</th>\n",
              "      <th>Beta_low_log</th>\n",
              "      <th>Beta_high_log</th>\n",
              "      <th>Gamma_low_log</th>\n",
              "      <th>Gamma_high_log</th>\n",
              "      <th>Attention</th>\n",
              "      <th>Meditation</th>\n",
              "      <th>Flag</th>\n",
              "    </tr>\n",
              "  </thead>\n",
              "  <tbody>\n",
              "    <tr>\n",
              "      <th>count</th>\n",
              "      <td>5244.000000</td>\n",
              "      <td>5244.000000</td>\n",
              "      <td>5244.000000</td>\n",
              "      <td>5244.000000</td>\n",
              "      <td>5244.000000</td>\n",
              "      <td>5244.000000</td>\n",
              "      <td>5244.000000</td>\n",
              "      <td>5244.000000</td>\n",
              "      <td>5244.000000</td>\n",
              "      <td>5244.000000</td>\n",
              "      <td>5244.000000</td>\n",
              "    </tr>\n",
              "    <tr>\n",
              "      <th>mean</th>\n",
              "      <td>12.064500</td>\n",
              "      <td>10.695941</td>\n",
              "      <td>9.355392</td>\n",
              "      <td>9.250890</td>\n",
              "      <td>9.035782</td>\n",
              "      <td>8.828616</td>\n",
              "      <td>8.406818</td>\n",
              "      <td>7.724752</td>\n",
              "      <td>51.652365</td>\n",
              "      <td>58.632151</td>\n",
              "      <td>0.601068</td>\n",
              "    </tr>\n",
              "    <tr>\n",
              "      <th>std</th>\n",
              "      <td>1.189917</td>\n",
              "      <td>0.825552</td>\n",
              "      <td>0.761348</td>\n",
              "      <td>0.684732</td>\n",
              "      <td>0.668153</td>\n",
              "      <td>0.631344</td>\n",
              "      <td>0.737807</td>\n",
              "      <td>0.716020</td>\n",
              "      <td>16.511836</td>\n",
              "      <td>15.025158</td>\n",
              "      <td>0.489725</td>\n",
              "    </tr>\n",
              "    <tr>\n",
              "      <th>min</th>\n",
              "      <td>8.430545</td>\n",
              "      <td>8.368229</td>\n",
              "      <td>7.257003</td>\n",
              "      <td>7.109879</td>\n",
              "      <td>7.007601</td>\n",
              "      <td>7.074963</td>\n",
              "      <td>6.326149</td>\n",
              "      <td>5.529429</td>\n",
              "      <td>1.000000</td>\n",
              "      <td>1.000000</td>\n",
              "      <td>0.000000</td>\n",
              "    </tr>\n",
              "    <tr>\n",
              "      <th>25%</th>\n",
              "      <td>11.211986</td>\n",
              "      <td>10.105826</td>\n",
              "      <td>8.807921</td>\n",
              "      <td>8.773810</td>\n",
              "      <td>8.601534</td>\n",
              "      <td>8.414274</td>\n",
              "      <td>7.892732</td>\n",
              "      <td>7.246368</td>\n",
              "      <td>40.000000</td>\n",
              "      <td>49.000000</td>\n",
              "      <td>0.000000</td>\n",
              "    </tr>\n",
              "    <tr>\n",
              "      <th>50%</th>\n",
              "      <td>12.172185</td>\n",
              "      <td>10.610858</td>\n",
              "      <td>9.293578</td>\n",
              "      <td>9.184099</td>\n",
              "      <td>8.987822</td>\n",
              "      <td>8.794673</td>\n",
              "      <td>8.368229</td>\n",
              "      <td>7.678326</td>\n",
              "      <td>52.000000</td>\n",
              "      <td>59.000000</td>\n",
              "      <td>1.000000</td>\n",
              "    </tr>\n",
              "    <tr>\n",
              "      <th>75%</th>\n",
              "      <td>13.050982</td>\n",
              "      <td>11.287742</td>\n",
              "      <td>9.841825</td>\n",
              "      <td>9.680828</td>\n",
              "      <td>9.423131</td>\n",
              "      <td>9.195531</td>\n",
              "      <td>8.887480</td>\n",
              "      <td>8.168203</td>\n",
              "      <td>63.000000</td>\n",
              "      <td>69.000000</td>\n",
              "      <td>1.000000</td>\n",
              "    </tr>\n",
              "    <tr>\n",
              "      <th>max</th>\n",
              "      <td>14.425741</td>\n",
              "      <td>13.445089</td>\n",
              "      <td>12.033842</td>\n",
              "      <td>11.912916</td>\n",
              "      <td>12.027843</td>\n",
              "      <td>12.066293</td>\n",
              "      <td>11.105949</td>\n",
              "      <td>10.232324</td>\n",
              "      <td>100.000000</td>\n",
              "      <td>99.000000</td>\n",
              "      <td>1.000000</td>\n",
              "    </tr>\n",
              "  </tbody>\n",
              "</table>\n",
              "</div>"
            ],
            "text/plain": [
              "         Delta_log    Theta_log  Alpha_low_log  Alpha_high_log  Beta_low_log  \\\n",
              "count  5244.000000  5244.000000    5244.000000     5244.000000   5244.000000   \n",
              "mean     12.064500    10.695941       9.355392        9.250890      9.035782   \n",
              "std       1.189917     0.825552       0.761348        0.684732      0.668153   \n",
              "min       8.430545     8.368229       7.257003        7.109879      7.007601   \n",
              "25%      11.211986    10.105826       8.807921        8.773810      8.601534   \n",
              "50%      12.172185    10.610858       9.293578        9.184099      8.987822   \n",
              "75%      13.050982    11.287742       9.841825        9.680828      9.423131   \n",
              "max      14.425741    13.445089      12.033842       11.912916     12.027843   \n",
              "\n",
              "       Beta_high_log  Gamma_low_log  Gamma_high_log    Attention   Meditation  \\\n",
              "count    5244.000000    5244.000000     5244.000000  5244.000000  5244.000000   \n",
              "mean        8.828616       8.406818        7.724752    51.652365    58.632151   \n",
              "std         0.631344       0.737807        0.716020    16.511836    15.025158   \n",
              "min         7.074963       6.326149        5.529429     1.000000     1.000000   \n",
              "25%         8.414274       7.892732        7.246368    40.000000    49.000000   \n",
              "50%         8.794673       8.368229        7.678326    52.000000    59.000000   \n",
              "75%         9.195531       8.887480        8.168203    63.000000    69.000000   \n",
              "max        12.066293      11.105949       10.232324   100.000000    99.000000   \n",
              "\n",
              "              Flag  \n",
              "count  5244.000000  \n",
              "mean      0.601068  \n",
              "std       0.489725  \n",
              "min       0.000000  \n",
              "25%       0.000000  \n",
              "50%       1.000000  \n",
              "75%       1.000000  \n",
              "max       1.000000  "
            ]
          },
          "execution_count": 230,
          "metadata": {},
          "output_type": "execute_result"
        }
      ],
      "source": [
        "dataset.loc[dataset['BlinkStrength'] < 0]\n",
        "\n",
        "def log_transform(data, col, unchanged):\n",
        "   new_dataset = pd.DataFrame()\n",
        "   for colname in col:\n",
        "        new_dataset[colname + '_log'] = np.log(data[colname]+1)\n",
        "\n",
        "   new_dataset[unchanged] = data[unchanged]\n",
        "   new_dataset['Flag'] = data['Flag']\n",
        "   return new_dataset\n",
        "\n",
        "\n",
        "transformed_dataset = log_transform(dataset,\n",
        "                                    ['Delta', 'Theta', 'Alpha_low', 'Alpha_high', 'Beta_low', 'Beta_high', 'Gamma_low', 'Gamma_high'],\n",
        "                                    [\"Attention\", \"Meditation\", \"Flag\"])\n",
        "transformed_dataset.describe()\n",
        "# dataset[[\"Attention\", \"Meditation\", \"BlinkStrength\"]]"
      ]
    },
    {
      "cell_type": "code",
      "execution_count": 231,
      "metadata": {},
      "outputs": [
        {
          "data": {
            "image/png": "[encoded data removed]",
            "text/plain": [
              "<Figure size 1500x1000 with 12 Axes>"
            ]
          },
          "metadata": {},
          "output_type": "display_data"
        }
      ],
      "source": [
        "transformed_dataset.hist(figsize=(15,10), bins = 20)\n",
        "plt.title(\"Features Distribution\")\n",
        "plt.show()"
      ]
    },
    {
      "cell_type": "code",
      "execution_count": 232,
      "metadata": {},
      "outputs": [
        {
          "name": "stdout",
          "output_type": "stream",
          "text": [
            "Train DataLoader length: 132 | Batch Size: 32\n",
            "Test DataLoader length: 33 | Batch Size: 32\n"
          ]
        }
      ],
      "source": [
        "X2 = torch.tensor(transformed_dataset.loc[:, \"Delta_log\": \"Meditation\"].values, dtype=torch.float32)\n",
        "y2 = torch.tensor(transformed_dataset.Flag.values, dtype=torch.float32)\n",
        "\n",
        "X_train_2, X_test_2, y_train_2, y_test_2 = train_test_split(X, y, test_size=0.2, random_state=1)\n",
        "\n",
        "y_train_2 = y_train_2.unsqueeze(1)\n",
        "y_test_2 = y_test_2.unsqueeze(1)\n",
        "\n",
        "train_dataloader_2, test_dataloader_2 = create_dataloader(X_train_2, y_train_2, X_test_2, y_test_2)"
      ]
    },
    {
      "cell_type": "code",
      "execution_count": 233,
      "metadata": {},
      "outputs": [
        {
          "data": {
            "text/plain": [
              "FlagModel2(\n",
              "  (block_1): Sequential(\n",
              "    (0): Linear(in_features=11, out_features=24, bias=True)\n",
              "    (1): ReLU()\n",
              "    (2): Linear(in_features=24, out_features=24, bias=True)\n",
              "    (3): ReLU()\n",
              "    (4): Linear(in_features=24, out_features=24, bias=True)\n",
              "  )\n",
              "  (block_2): Sequential(\n",
              "    (0): ReLU()\n",
              "    (1): Linear(in_features=24, out_features=1, bias=True)\n",
              "    (2): Sigmoid()\n",
              "  )\n",
              ")"
            ]
          },
          "execution_count": 233,
          "metadata": {},
          "output_type": "execute_result"
        }
      ],
      "source": [
        "class FlagModel2(nn.Module):\n",
        "   def __init__(self, input_shape: int, hidden_units: int, output_shape: int):\n",
        "       super().__init__()\n",
        "\n",
        "       self.block_1 = nn.Sequential(\n",
        "           nn.Linear(in_features=input_shape, out_features=hidden_units),\n",
        "           nn.ReLU(),\n",
        "           nn.Linear(in_features=hidden_units, out_features=hidden_units),\n",
        "           nn.ReLU(),\n",
        "           nn.Linear(in_features=hidden_units, out_features=hidden_units),\n",
        "       )\n",
        "       self.block_2 = nn.Sequential(\n",
        "           nn.ReLU(),\n",
        "           nn.Linear(in_features=hidden_units, out_features=output_shape),\n",
        "           nn.Sigmoid()\n",
        "       )\n",
        "\n",
        "   def forward(self, x):\n",
        "       return self.block_2(self.block_1(x))\n",
        "\n",
        "flag_model_2 = FlagModel2(11, 24, 1).to(device)\n",
        "flag_model_2"
      ]
    },
    {
      "cell_type": "code",
      "execution_count": 234,
      "metadata": {},
      "outputs": [],
      "source": [
        "EPOCHS = 10\n",
        "optimizer = torch.optim.Adam(params=flag_model_2.parameters(), lr=0.001)"
      ]
    },
    {
      "cell_type": "code",
      "execution_count": 235,
      "metadata": {},
      "outputs": [
        {
          "name": "stderr",
          "output_type": "stream",
          "text": [
            " 10%|█         | 1/10 [00:00<00:03,  2.56it/s]"
          ]
        },
        {
          "name": "stdout",
          "output_type": "stream",
          "text": [
            "\n",
            "Epoch: 0 | Train Loss: 40.51 | Train Acc: 59.49% | Test loss: 52.0 | Test Acc: 48.00%\n"
          ]
        },
        {
          "name": "stderr",
          "output_type": "stream",
          "text": [
            " 30%|███       | 3/10 [00:00<00:01,  3.65it/s]"
          ]
        },
        {
          "name": "stdout",
          "output_type": "stream",
          "text": [
            "\n",
            "Epoch: 1 | Train Loss: 40.29 | Train Acc: 59.71% | Test loss: 52.0 | Test Acc: 48.00%\n",
            "\n",
            "Epoch: 2 | Train Loss: 40.29 | Train Acc: 59.71% | Test loss: 52.0 | Test Acc: 48.00%\n"
          ]
        },
        {
          "name": "stderr",
          "output_type": "stream",
          "text": [
            " 50%|█████     | 5/10 [00:01<00:01,  4.80it/s]"
          ]
        },
        {
          "name": "stdout",
          "output_type": "stream",
          "text": [
            "\n",
            "Epoch: 3 | Train Loss: 40.29 | Train Acc: 59.71% | Test loss: 52.0 | Test Acc: 48.00%\n",
            "\n",
            "Epoch: 4 | Train Loss: 40.06 | Train Acc: 59.94% | Test loss: 52.0 | Test Acc: 48.00%\n"
          ]
        },
        {
          "name": "stderr",
          "output_type": "stream",
          "text": [
            " 70%|███████   | 7/10 [00:01<00:00,  5.43it/s]"
          ]
        },
        {
          "name": "stdout",
          "output_type": "stream",
          "text": [
            "\n",
            "Epoch: 5 | Train Loss: 40.74 | Train Acc: 59.26% | Test loss: 52.0 | Test Acc: 48.00%\n",
            "\n",
            "Epoch: 6 | Train Loss: 40.29 | Train Acc: 59.71% | Test loss: 52.0 | Test Acc: 48.00%\n"
          ]
        },
        {
          "name": "stderr",
          "output_type": "stream",
          "text": [
            " 90%|█████████ | 9/10 [00:01<00:00,  5.68it/s]"
          ]
        },
        {
          "name": "stdout",
          "output_type": "stream",
          "text": [
            "\n",
            "Epoch: 7 | Train Loss: 40.51 | Train Acc: 59.49% | Test loss: 52.0 | Test Acc: 48.00%\n",
            "\n",
            "Epoch: 8 | Train Loss: 40.29 | Train Acc: 59.71% | Test loss: 52.0 | Test Acc: 48.00%\n"
          ]
        },
        {
          "name": "stderr",
          "output_type": "stream",
          "text": [
            "100%|██████████| 10/10 [00:02<00:00,  4.83it/s]"
          ]
        },
        {
          "name": "stdout",
          "output_type": "stream",
          "text": [
            "\n",
            "Epoch: 9 | Train Loss: 40.29 | Train Acc: 59.71% | Test loss: 52.0 | Test Acc: 48.00%\n",
            "\n",
            "Training was done in 4.67 seconds\n"
          ]
        },
        {
          "name": "stderr",
          "output_type": "stream",
          "text": [
            "\n"
          ]
        }
      ],
      "source": [
        "train(model=flag_model_2,\n",
        "      train_data=train_dataloader_2,\n",
        "      test_data=test_dataloader_2,\n",
        "      loss_fn=loss_fn,\n",
        "      optimizer=optimizer,\n",
        "      accuracy_fn=accuracy_fn,\n",
        "      epochs=EPOCHS)"
      ]
    },
    {
      "cell_type": "code",
      "execution_count": null,
      "metadata": {},
      "outputs": [],
      "source": []
    }
  ],
  "metadata": {
    "colab": {
      "provenance": []
    },
    "kernelspec": {
      "display_name": "Python 3",
      "name": "python3"
    },
    "language_info": {
      "codemirror_mode": {
        "name": "ipython",
        "version": 3
      },
      "file_extension": ".py",
      "mimetype": "text/x-python",
      "name": "python",
      "nbconvert_exporter": "python",
      "pygments_lexer": "ipython3",
      "version": "3.10.12"
    },
    "widgets": {
      "application/vnd.jupyter.widget-state+json": {
        "03d4b5b1656b4748ab4b11e9abb38bd4": {
          "model_module": "@jupyter-widgets/controls",
          "model_module_version": "1.5.0",
          "model_name": "HTMLModel",
          "state": {
            "_dom_classes": [],
            "_model_module": "@jupyter-widgets/controls",
            "_model_module_version": "1.5.0",
            "_model_name": "HTMLModel",
            "_view_count": null,
            "_view_module": "@jupyter-widgets/controls",
            "_view_module_version": "1.5.0",
            "_view_name": "HTMLView",
            "description": "",
            "description_tooltip": null,
            "layout": "IPY_MODEL_123010fb9b4747a6979342aed38d3a79",
            "placeholder": "​",
            "style": "IPY_MODEL_1fa7eb4654e3436c8d43091d368ed0a2",
            "value": "100%"
          }
        },
        "123010fb9b4747a6979342aed38d3a79": {
          "model_module": "@jupyter-widgets/base",
          "model_module_version": "1.2.0",
          "model_name": "LayoutModel",
          "state": {
            "_model_module": "@jupyter-widgets/base",
            "_model_module_version": "1.2.0",
            "_model_name": "LayoutModel",
            "_view_count": null,
            "_view_module": "@jupyter-widgets/base",
            "_view_module_version": "1.2.0",
            "_view_name": "LayoutView",
            "align_content": null,
            "align_items": null,
            "align_self": null,
            "border": null,
            "bottom": null,
            "display": null,
            "flex": null,
            "flex_flow": null,
            "grid_area": null,
            "grid_auto_columns": null,
            "grid_auto_flow": null,
            "grid_auto_rows": null,
            "grid_column": null,
            "grid_gap": null,
            "grid_row": null,
            "grid_template_areas": null,
            "grid_template_columns": null,
            "grid_template_rows": null,
            "height": null,
            "justify_content": null,
            "justify_items": null,
            "left": null,
            "margin": null,
            "max_height": null,
            "max_width": null,
            "min_height": null,
            "min_width": null,
            "object_fit": null,
            "object_position": null,
            "order": null,
            "overflow": null,
            "overflow_x": null,
            "overflow_y": null,
            "padding": null,
            "right": null,
            "top": null,
            "visibility": null,
            "width": null
          }
        },
        "1fa7eb4654e3436c8d43091d368ed0a2": {
          "model_module": "@jupyter-widgets/controls",
          "model_module_version": "1.5.0",
          "model_name": "DescriptionStyleModel",
          "state": {
            "_model_module": "@jupyter-widgets/controls",
            "_model_module_version": "1.5.0",
            "_model_name": "DescriptionStyleModel",
            "_view_count": null,
            "_view_module": "@jupyter-widgets/base",
            "_view_module_version": "1.2.0",
            "_view_name": "StyleView",
            "description_width": ""
          }
        },
        "204a6cad6bd842d4b881f6cc905eb67d": {
          "model_module": "@jupyter-widgets/base",
          "model_module_version": "1.2.0",
          "model_name": "LayoutModel",
          "state": {
            "_model_module": "@jupyter-widgets/base",
            "_model_module_version": "1.2.0",
            "_model_name": "LayoutModel",
            "_view_count": null,
            "_view_module": "@jupyter-widgets/base",
            "_view_module_version": "1.2.0",
            "_view_name": "LayoutView",
            "align_content": null,
            "align_items": null,
            "align_self": null,
            "border": null,
            "bottom": null,
            "display": null,
            "flex": null,
            "flex_flow": null,
            "grid_area": null,
            "grid_auto_columns": null,
            "grid_auto_flow": null,
            "grid_auto_rows": null,
            "grid_column": null,
            "grid_gap": null,
            "grid_row": null,
            "grid_template_areas": null,
            "grid_template_columns": null,
            "grid_template_rows": null,
            "height": null,
            "justify_content": null,
            "justify_items": null,
            "left": null,
            "margin": null,
            "max_height": null,
            "max_width": null,
            "min_height": null,
            "min_width": null,
            "object_fit": null,
            "object_position": null,
            "order": null,
            "overflow": null,
            "overflow_x": null,
            "overflow_y": null,
            "padding": null,
            "right": null,
            "top": null,
            "visibility": null,
            "width": null
          }
        },
        "377bb1f9a54e4e4491cc72845ebb3668": {
          "model_module": "@jupyter-widgets/controls",
          "model_module_version": "1.5.0",
          "model_name": "FloatProgressModel",
          "state": {
            "_dom_classes": [],
            "_model_module": "@jupyter-widgets/controls",
            "_model_module_version": "1.5.0",
            "_model_name": "FloatProgressModel",
            "_view_count": null,
            "_view_module": "@jupyter-widgets/controls",
            "_view_module_version": "1.5.0",
            "_view_name": "ProgressView",
            "bar_style": "success",
            "description": "",
            "description_tooltip": null,
            "layout": "IPY_MODEL_204a6cad6bd842d4b881f6cc905eb67d",
            "max": 20,
            "min": 0,
            "orientation": "horizontal",
            "style": "IPY_MODEL_ae4f0a2bab994ca5ae3b37786b405bc0",
            "value": 20
          }
        },
        "685f0af5d2d14ff895a0cf5c8ba8331f": {
          "model_module": "@jupyter-widgets/controls",
          "model_module_version": "1.5.0",
          "model_name": "HTMLModel",
          "state": {
            "_dom_classes": [],
            "_model_module": "@jupyter-widgets/controls",
            "_model_module_version": "1.5.0",
            "_model_name": "HTMLModel",
            "_view_count": null,
            "_view_module": "@jupyter-widgets/controls",
            "_view_module_version": "1.5.0",
            "_view_name": "HTMLView",
            "description": "",
            "description_tooltip": null,
            "layout": "IPY_MODEL_8859e5e443a34371b40dabd8162f9ce7",
            "placeholder": "​",
            "style": "IPY_MODEL_f010dc6e68964610817def2c8e80b743",
            "value": " 20/20 [00:06&lt;00:00,  3.67it/s]"
          }
        },
        "8859e5e443a34371b40dabd8162f9ce7": {
          "model_module": "@jupyter-widgets/base",
          "model_module_version": "1.2.0",
          "model_name": "LayoutModel",
          "state": {
            "_model_module": "@jupyter-widgets/base",
            "_model_module_version": "1.2.0",
            "_model_name": "LayoutModel",
            "_view_count": null,
            "_view_module": "@jupyter-widgets/base",
            "_view_module_version": "1.2.0",
            "_view_name": "LayoutView",
            "align_content": null,
            "align_items": null,
            "align_self": null,
            "border": null,
            "bottom": null,
            "display": null,
            "flex": null,
            "flex_flow": null,
            "grid_area": null,
            "grid_auto_columns": null,
            "grid_auto_flow": null,
            "grid_auto_rows": null,
            "grid_column": null,
            "grid_gap": null,
            "grid_row": null,
            "grid_template_areas": null,
            "grid_template_columns": null,
            "grid_template_rows": null,
            "height": null,
            "justify_content": null,
            "justify_items": null,
            "left": null,
            "margin": null,
            "max_height": null,
            "max_width": null,
            "min_height": null,
            "min_width": null,
            "object_fit": null,
            "object_position": null,
            "order": null,
            "overflow": null,
            "overflow_x": null,
            "overflow_y": null,
            "padding": null,
            "right": null,
            "top": null,
            "visibility": null,
            "width": null
          }
        },
        "9a89085b2a504485b989a727afb8504c": {
          "model_module": "@jupyter-widgets/base",
          "model_module_version": "1.2.0",
          "model_name": "LayoutModel",
          "state": {
            "_model_module": "@jupyter-widgets/base",
            "_model_module_version": "1.2.0",
            "_model_name": "LayoutModel",
            "_view_count": null,
            "_view_module": "@jupyter-widgets/base",
            "_view_module_version": "1.2.0",
            "_view_name": "LayoutView",
            "align_content": null,
            "align_items": null,
            "align_self": null,
            "border": null,
            "bottom": null,
            "display": null,
            "flex": null,
            "flex_flow": null,
            "grid_area": null,
            "grid_auto_columns": null,
            "grid_auto_flow": null,
            "grid_auto_rows": null,
            "grid_column": null,
            "grid_gap": null,
            "grid_row": null,
            "grid_template_areas": null,
            "grid_template_columns": null,
            "grid_template_rows": null,
            "height": null,
            "justify_content": null,
            "justify_items": null,
            "left": null,
            "margin": null,
            "max_height": null,
            "max_width": null,
            "min_height": null,
            "min_width": null,
            "object_fit": null,
            "object_position": null,
            "order": null,
            "overflow": null,
            "overflow_x": null,
            "overflow_y": null,
            "padding": null,
            "right": null,
            "top": null,
            "visibility": null,
            "width": null
          }
        },
        "a70778d220054505a183d31c879a8eca": {
          "model_module": "@jupyter-widgets/controls",
          "model_module_version": "1.5.0",
          "model_name": "HBoxModel",
          "state": {
            "_dom_classes": [],
            "_model_module": "@jupyter-widgets/controls",
            "_model_module_version": "1.5.0",
            "_model_name": "HBoxModel",
            "_view_count": null,
            "_view_module": "@jupyter-widgets/controls",
            "_view_module_version": "1.5.0",
            "_view_name": "HBoxView",
            "box_style": "",
            "children": [
              "IPY_MODEL_03d4b5b1656b4748ab4b11e9abb38bd4",
              "IPY_MODEL_377bb1f9a54e4e4491cc72845ebb3668",
              "IPY_MODEL_685f0af5d2d14ff895a0cf5c8ba8331f"
            ],
            "layout": "IPY_MODEL_9a89085b2a504485b989a727afb8504c"
          }
        },
        "ae4f0a2bab994ca5ae3b37786b405bc0": {
          "model_module": "@jupyter-widgets/controls",
          "model_module_version": "1.5.0",
          "model_name": "ProgressStyleModel",
          "state": {
            "_model_module": "@jupyter-widgets/controls",
            "_model_module_version": "1.5.0",
            "_model_name": "ProgressStyleModel",
            "_view_count": null,
            "_view_module": "@jupyter-widgets/base",
            "_view_module_version": "1.2.0",
            "_view_name": "StyleView",
            "bar_color": null,
            "description_width": ""
          }
        },
        "f010dc6e68964610817def2c8e80b743": {
          "model_module": "@jupyter-widgets/controls",
          "model_module_version": "1.5.0",
          "model_name": "DescriptionStyleModel",
          "state": {
            "_model_module": "@jupyter-widgets/controls",
            "_model_module_version": "1.5.0",
            "_model_name": "DescriptionStyleModel",
            "_view_count": null,
            "_view_module": "@jupyter-widgets/base",
            "_view_module_version": "1.2.0",
            "_view_name": "StyleView",
            "description_width": ""
          }
        }
      }
    }
  },
  "nbformat": 4,
  "nbformat_minor": 0
}
